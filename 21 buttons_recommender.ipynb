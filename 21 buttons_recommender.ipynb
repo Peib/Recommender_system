{
 "cells": [
  {
   "cell_type": "markdown",
   "metadata": {},
   "source": [
    "# 21 Buttons Recommender system\n",
    "\n",
    "This notebook present the solution of item recommender problem proposed by 21Buttons about collaborative filtering.\n",
    "\n",
    "This notebook consists in 3 parts:\n",
    "    1. Prepare data for modelling\n",
    "    2. Memory based approach: Item-item collaborative filtering\n",
    "    3. Model based approach: Using Implicit package. Alternative Least Squares for Matrix factorization\n",
    "    4. Conclusions and final similar items"
   ]
  },
  {
   "cell_type": "markdown",
   "metadata": {},
   "source": [
    "## 1 - Preparing data\n",
    "\n",
    "This section includes:\n",
    "    * Load data and define rmse function\n",
    "    * Divide dataset into train and test sets\n",
    "    * Treatment of data to convert dataset into user-item matrix\n",
    "    * Normalize de matrix"
   ]
  },
  {
   "cell_type": "markdown",
   "metadata": {},
   "source": [
    "### 1.1 - Load data"
   ]
  },
  {
   "cell_type": "code",
   "execution_count": 1,
   "metadata": {},
   "outputs": [],
   "source": [
    "# Import libraries\n",
    "import pandas as pd\n",
    "import numpy as np\n",
    "\n",
    "from scipy import sparse\n",
    "from numpy import linalg as LA\n",
    "from math import sqrt\n",
    "\n",
    "from sklearn.metrics.pairwise import cosine_similarity\n",
    "from sklearn.model_selection import train_test_split\n",
    "from sklearn.metrics import mean_squared_error\n",
    "\n",
    "import implicit"
   ]
  },
  {
   "cell_type": "code",
   "execution_count": 2,
   "metadata": {
    "scrolled": true
   },
   "outputs": [
    {
     "data": {
      "text/html": [
       "<div>\n",
       "<style scoped>\n",
       "    .dataframe tbody tr th:only-of-type {\n",
       "        vertical-align: middle;\n",
       "    }\n",
       "\n",
       "    .dataframe tbody tr th {\n",
       "        vertical-align: top;\n",
       "    }\n",
       "\n",
       "    .dataframe thead th {\n",
       "        text-align: right;\n",
       "    }\n",
       "</style>\n",
       "<table border=\"1\" class=\"dataframe\">\n",
       "  <thead>\n",
       "    <tr style=\"text-align: right;\">\n",
       "      <th></th>\n",
       "      <th>id</th>\n",
       "      <th>user_id</th>\n",
       "      <th>tag_id</th>\n",
       "      <th>product_name</th>\n",
       "    </tr>\n",
       "  </thead>\n",
       "  <tbody>\n",
       "    <tr>\n",
       "      <th>0</th>\n",
       "      <td>1</td>\n",
       "      <td>00000055a78bf6735c4a89358fab1de34104c3cb</td>\n",
       "      <td>e78de9dad70d230a096f0bbdc3e89b5cae04ba77</td>\n",
       "      <td>La GarÌ¤onne In Oro Rosa A Maglie/bianco</td>\n",
       "    </tr>\n",
       "    <tr>\n",
       "      <th>1</th>\n",
       "      <td>2</td>\n",
       "      <td>00000055a78bf6735c4a89358fab1de34104c3cb</td>\n",
       "      <td>b9a521730141de9bc4fe8ebc9f33713411d0101a</td>\n",
       "      <td>Fishnet Eco Bag</td>\n",
       "    </tr>\n",
       "    <tr>\n",
       "      <th>2</th>\n",
       "      <td>3</td>\n",
       "      <td>00000055a78bf6735c4a89358fab1de34104c3cb</td>\n",
       "      <td>8378136c6dd0e03be859a210a0cee03955951fb1</td>\n",
       "      <td>Collarino Essentielle In Oro Interamente A Esa...</td>\n",
       "    </tr>\n",
       "    <tr>\n",
       "      <th>3</th>\n",
       "      <td>4</td>\n",
       "      <td>00000055a78bf6735c4a89358fab1de34104c3cb</td>\n",
       "      <td>9cc68d8345f675892bcab0fad02f65b4ac7e71ea</td>\n",
       "      <td>Asos - Vestito A Fascia Con Fondo A Fisarmonica</td>\n",
       "    </tr>\n",
       "    <tr>\n",
       "      <th>4</th>\n",
       "      <td>5</td>\n",
       "      <td>00000055a78bf6735c4a89358fab1de34104c3cb</td>\n",
       "      <td>a8272c62cd05d5b882e4f630fb55cfa0ba8491e6</td>\n",
       "      <td>Peggy Off Shoulder Corset Top-white</td>\n",
       "    </tr>\n",
       "  </tbody>\n",
       "</table>\n",
       "</div>"
      ],
      "text/plain": [
       "   id                                   user_id  \\\n",
       "0   1  00000055a78bf6735c4a89358fab1de34104c3cb   \n",
       "1   2  00000055a78bf6735c4a89358fab1de34104c3cb   \n",
       "2   3  00000055a78bf6735c4a89358fab1de34104c3cb   \n",
       "3   4  00000055a78bf6735c4a89358fab1de34104c3cb   \n",
       "4   5  00000055a78bf6735c4a89358fab1de34104c3cb   \n",
       "\n",
       "                                     tag_id  \\\n",
       "0  e78de9dad70d230a096f0bbdc3e89b5cae04ba77   \n",
       "1  b9a521730141de9bc4fe8ebc9f33713411d0101a   \n",
       "2  8378136c6dd0e03be859a210a0cee03955951fb1   \n",
       "3  9cc68d8345f675892bcab0fad02f65b4ac7e71ea   \n",
       "4  a8272c62cd05d5b882e4f630fb55cfa0ba8491e6   \n",
       "\n",
       "                                        product_name  \n",
       "0           La GarÌ¤onne In Oro Rosa A Maglie/bianco  \n",
       "1                                    Fishnet Eco Bag  \n",
       "2  Collarino Essentielle In Oro Interamente A Esa...  \n",
       "3    Asos - Vestito A Fascia Con Fondo A Fisarmonica  \n",
       "4                Peggy Off Shoulder Corset Top-white  "
      ]
     },
     "execution_count": 2,
     "metadata": {},
     "output_type": "execute_result"
    }
   ],
   "source": [
    "# Load dataset\n",
    "data = pd.read_csv('21B_tag_views_dataset.csv', encoding='ansi')\n",
    "data.head()"
   ]
  },
  {
   "cell_type": "markdown",
   "metadata": {},
   "source": [
    "The dataset includes the following columns:\n",
    "- Id: sequential id of the tag views table (int)\n",
    "- User_id: unique code that identifies our users (varchar(255))\n",
    "- Tag_id: unique code that identifies our products/tags (varchar(255))\n",
    "- Product_name: text that describe the product tagged (not unique) (varchar(255))\n",
    "\n",
    "Let's check how many different users and items there are in the data set"
   ]
  },
  {
   "cell_type": "code",
   "execution_count": 3,
   "metadata": {},
   "outputs": [
    {
     "name": "stdout",
     "output_type": "stream",
     "text": [
      "Dataset shape is: (9999, 4)\n",
      "There are 859 different users\n",
      "There are 1000 different items\n"
     ]
    }
   ],
   "source": [
    "print('Dataset shape is: ' + str(data.shape))\n",
    "print('There are ' + str(data['user_id'].unique().shape[0]) + ' different users')\n",
    "print('There are ' + str(data['tag_id'].unique().shape[0]) + ' different items')"
   ]
  },
  {
   "cell_type": "markdown",
   "metadata": {},
   "source": [
    "### 1.2 - Division dataset into train and test sets"
   ]
  },
  {
   "cell_type": "markdown",
   "metadata": {},
   "source": [
    "Next step is divide dataset into train and test sets.\n",
    "I will use train_test_split with 80% data in train and 20% data in test"
   ]
  },
  {
   "cell_type": "code",
   "execution_count": 4,
   "metadata": {},
   "outputs": [],
   "source": [
    "# Fix seed. Necessary if we want to replicate exact partition train/test\n",
    "np.random.seed(1234)\n",
    "train_data, test_data = train_test_split(data, test_size=0.2)\n",
    "train_data = train_data.sort_values(by='id')\n",
    "test_data = test_data.sort_values(by='id')"
   ]
  },
  {
   "cell_type": "markdown",
   "metadata": {},
   "source": [
    "Let's check dimensions of splitted data and how many different users and items are"
   ]
  },
  {
   "cell_type": "code",
   "execution_count": 5,
   "metadata": {
    "scrolled": true
   },
   "outputs": [
    {
     "name": "stdout",
     "output_type": "stream",
     "text": [
      "Train dataset shape is: (7999, 4)\n",
      "There are 817 different users\n",
      "There are 1000 different items\n",
      "\n",
      "Test dataset shape is: (2000, 4)\n",
      "There are 519 different users\n",
      "There are 796 different items\n"
     ]
    }
   ],
   "source": [
    "print('Train dataset shape is: ' + str(train_data.shape))\n",
    "print('There are ' + str(train_data['user_id'].unique().shape[0]) + ' different users')\n",
    "print('There are ' + str(train_data['tag_id'].unique().shape[0]) + ' different items')\n",
    "print()\n",
    "print('Test dataset shape is: ' + str(test_data.shape))\n",
    "print('There are ' + str(test_data['user_id'].unique().shape[0]) + ' different users')\n",
    "print('There are ' + str(test_data['tag_id'].unique().shape[0]) + ' different items')"
   ]
  },
  {
   "cell_type": "markdown",
   "metadata": {},
   "source": [
    "### 1.3 - Treatment of data to create matrix user-item"
   ]
  },
  {
   "cell_type": "markdown",
   "metadata": {},
   "source": [
    "In this section, user-item matrix is created. Every row in dataset represents a user and each column represents an item. Each position of the matrix says if user has already liked the item."
   ]
  },
  {
   "cell_type": "code",
   "execution_count": 6,
   "metadata": {
    "scrolled": true
   },
   "outputs": [
    {
     "data": {
      "text/html": [
       "<div>\n",
       "<style scoped>\n",
       "    .dataframe tbody tr th:only-of-type {\n",
       "        vertical-align: middle;\n",
       "    }\n",
       "\n",
       "    .dataframe tbody tr th {\n",
       "        vertical-align: top;\n",
       "    }\n",
       "\n",
       "    .dataframe thead th {\n",
       "        text-align: right;\n",
       "    }\n",
       "</style>\n",
       "<table border=\"1\" class=\"dataframe\">\n",
       "  <thead>\n",
       "    <tr style=\"text-align: right;\">\n",
       "      <th>tag_id</th>\n",
       "      <th>00410345e6d60633a211ebd3755d5c89ea7b5297</th>\n",
       "      <th>005703ee98894846cde759fbe88f3d7fde830c85</th>\n",
       "      <th>0076e2a45d90991150032dbfaa574b4b7ab21177</th>\n",
       "      <th>0087f6286f5bd4f872620555b3e3b880e21de444</th>\n",
       "      <th>008a19c4e6b27ade78d422f9deaba16ef195772b</th>\n",
       "      <th>0108e35fbb3bb7e60c2045386294914255f137eb</th>\n",
       "      <th>01c1f1173136b005f885c4691db374d4762f15e0</th>\n",
       "      <th>022f8f30c65aaeb13def1fb9d700c1937e30da06</th>\n",
       "      <th>0245aa04713eb538ebcb6d6c5667a55f5920d535</th>\n",
       "      <th>02a5da421359cb69816444a48f35c0cb01806ca6</th>\n",
       "      <th>...</th>\n",
       "      <th>fde652531ae50c7def995f5c5c2b067cd9bdc9de</th>\n",
       "      <th>fe0f9fd1fdfe652523ed4a3a9e57375301bf7144</th>\n",
       "      <th>fe2297da6fbc7992a934f8ce4c848584d73bd1c3</th>\n",
       "      <th>fe5cd317975ca5dada3d9d047133f1925e460053</th>\n",
       "      <th>fe9cd8d22101c48eca5bc3eee51b9dc5e07fe683</th>\n",
       "      <th>fe9e7151b6ae2070c053a80fa37862cfef449cae</th>\n",
       "      <th>fed8505b88adf6d879b4df147b29a068d98faa72</th>\n",
       "      <th>ff0257af2bc7c28cd397a820aa33cde0d04b58b8</th>\n",
       "      <th>ff0d3fb21c00bc33f71187a2beec389e9eff5332</th>\n",
       "      <th>ff664fdace0b1f85828387e81580f871eacb6386</th>\n",
       "    </tr>\n",
       "    <tr>\n",
       "      <th>user_id</th>\n",
       "      <th></th>\n",
       "      <th></th>\n",
       "      <th></th>\n",
       "      <th></th>\n",
       "      <th></th>\n",
       "      <th></th>\n",
       "      <th></th>\n",
       "      <th></th>\n",
       "      <th></th>\n",
       "      <th></th>\n",
       "      <th></th>\n",
       "      <th></th>\n",
       "      <th></th>\n",
       "      <th></th>\n",
       "      <th></th>\n",
       "      <th></th>\n",
       "      <th></th>\n",
       "      <th></th>\n",
       "      <th></th>\n",
       "      <th></th>\n",
       "      <th></th>\n",
       "    </tr>\n",
       "  </thead>\n",
       "  <tbody>\n",
       "    <tr>\n",
       "      <th>00000055a78bf6735c4a89358fab1de34104c3cb</th>\n",
       "      <td>0.0</td>\n",
       "      <td>0.0</td>\n",
       "      <td>0.0</td>\n",
       "      <td>0.0</td>\n",
       "      <td>0.0</td>\n",
       "      <td>0.0</td>\n",
       "      <td>0.0</td>\n",
       "      <td>0.0</td>\n",
       "      <td>0.0</td>\n",
       "      <td>0.0</td>\n",
       "      <td>...</td>\n",
       "      <td>0.0</td>\n",
       "      <td>0.0</td>\n",
       "      <td>0.0</td>\n",
       "      <td>0.0</td>\n",
       "      <td>0.0</td>\n",
       "      <td>0.0</td>\n",
       "      <td>0.0</td>\n",
       "      <td>0.0</td>\n",
       "      <td>0.0</td>\n",
       "      <td>0.0</td>\n",
       "    </tr>\n",
       "    <tr>\n",
       "      <th>00000bfd1cce5d57bd67ca12b70acc8cd4df4176</th>\n",
       "      <td>0.0</td>\n",
       "      <td>0.0</td>\n",
       "      <td>0.0</td>\n",
       "      <td>0.0</td>\n",
       "      <td>0.0</td>\n",
       "      <td>0.0</td>\n",
       "      <td>0.0</td>\n",
       "      <td>0.0</td>\n",
       "      <td>0.0</td>\n",
       "      <td>0.0</td>\n",
       "      <td>...</td>\n",
       "      <td>0.0</td>\n",
       "      <td>0.0</td>\n",
       "      <td>0.0</td>\n",
       "      <td>0.0</td>\n",
       "      <td>0.0</td>\n",
       "      <td>0.0</td>\n",
       "      <td>0.0</td>\n",
       "      <td>0.0</td>\n",
       "      <td>0.0</td>\n",
       "      <td>0.0</td>\n",
       "    </tr>\n",
       "    <tr>\n",
       "      <th>000014674d2afbd30b4a89e7f917b67ade3c31c4</th>\n",
       "      <td>0.0</td>\n",
       "      <td>0.0</td>\n",
       "      <td>0.0</td>\n",
       "      <td>0.0</td>\n",
       "      <td>0.0</td>\n",
       "      <td>0.0</td>\n",
       "      <td>0.0</td>\n",
       "      <td>0.0</td>\n",
       "      <td>0.0</td>\n",
       "      <td>0.0</td>\n",
       "      <td>...</td>\n",
       "      <td>0.0</td>\n",
       "      <td>0.0</td>\n",
       "      <td>0.0</td>\n",
       "      <td>0.0</td>\n",
       "      <td>0.0</td>\n",
       "      <td>0.0</td>\n",
       "      <td>0.0</td>\n",
       "      <td>0.0</td>\n",
       "      <td>0.0</td>\n",
       "      <td>0.0</td>\n",
       "    </tr>\n",
       "    <tr>\n",
       "      <th>00001dbe00e56fc4b1c1b65dda63de2a5ece55f9</th>\n",
       "      <td>0.0</td>\n",
       "      <td>0.0</td>\n",
       "      <td>0.0</td>\n",
       "      <td>0.0</td>\n",
       "      <td>0.0</td>\n",
       "      <td>0.0</td>\n",
       "      <td>0.0</td>\n",
       "      <td>0.0</td>\n",
       "      <td>0.0</td>\n",
       "      <td>0.0</td>\n",
       "      <td>...</td>\n",
       "      <td>0.0</td>\n",
       "      <td>0.0</td>\n",
       "      <td>0.0</td>\n",
       "      <td>0.0</td>\n",
       "      <td>0.0</td>\n",
       "      <td>0.0</td>\n",
       "      <td>0.0</td>\n",
       "      <td>0.0</td>\n",
       "      <td>0.0</td>\n",
       "      <td>0.0</td>\n",
       "    </tr>\n",
       "    <tr>\n",
       "      <th>00002d886b0027b4cead503a8a6f71b797721dcc</th>\n",
       "      <td>0.0</td>\n",
       "      <td>0.0</td>\n",
       "      <td>0.0</td>\n",
       "      <td>0.0</td>\n",
       "      <td>0.0</td>\n",
       "      <td>0.0</td>\n",
       "      <td>0.0</td>\n",
       "      <td>0.0</td>\n",
       "      <td>0.0</td>\n",
       "      <td>0.0</td>\n",
       "      <td>...</td>\n",
       "      <td>0.0</td>\n",
       "      <td>0.0</td>\n",
       "      <td>0.0</td>\n",
       "      <td>0.0</td>\n",
       "      <td>0.0</td>\n",
       "      <td>0.0</td>\n",
       "      <td>0.0</td>\n",
       "      <td>0.0</td>\n",
       "      <td>0.0</td>\n",
       "      <td>0.0</td>\n",
       "    </tr>\n",
       "  </tbody>\n",
       "</table>\n",
       "<p>5 rows × 1000 columns</p>\n",
       "</div>"
      ],
      "text/plain": [
       "tag_id                                    00410345e6d60633a211ebd3755d5c89ea7b5297  \\\n",
       "user_id                                                                              \n",
       "00000055a78bf6735c4a89358fab1de34104c3cb                                       0.0   \n",
       "00000bfd1cce5d57bd67ca12b70acc8cd4df4176                                       0.0   \n",
       "000014674d2afbd30b4a89e7f917b67ade3c31c4                                       0.0   \n",
       "00001dbe00e56fc4b1c1b65dda63de2a5ece55f9                                       0.0   \n",
       "00002d886b0027b4cead503a8a6f71b797721dcc                                       0.0   \n",
       "\n",
       "tag_id                                    005703ee98894846cde759fbe88f3d7fde830c85  \\\n",
       "user_id                                                                              \n",
       "00000055a78bf6735c4a89358fab1de34104c3cb                                       0.0   \n",
       "00000bfd1cce5d57bd67ca12b70acc8cd4df4176                                       0.0   \n",
       "000014674d2afbd30b4a89e7f917b67ade3c31c4                                       0.0   \n",
       "00001dbe00e56fc4b1c1b65dda63de2a5ece55f9                                       0.0   \n",
       "00002d886b0027b4cead503a8a6f71b797721dcc                                       0.0   \n",
       "\n",
       "tag_id                                    0076e2a45d90991150032dbfaa574b4b7ab21177  \\\n",
       "user_id                                                                              \n",
       "00000055a78bf6735c4a89358fab1de34104c3cb                                       0.0   \n",
       "00000bfd1cce5d57bd67ca12b70acc8cd4df4176                                       0.0   \n",
       "000014674d2afbd30b4a89e7f917b67ade3c31c4                                       0.0   \n",
       "00001dbe00e56fc4b1c1b65dda63de2a5ece55f9                                       0.0   \n",
       "00002d886b0027b4cead503a8a6f71b797721dcc                                       0.0   \n",
       "\n",
       "tag_id                                    0087f6286f5bd4f872620555b3e3b880e21de444  \\\n",
       "user_id                                                                              \n",
       "00000055a78bf6735c4a89358fab1de34104c3cb                                       0.0   \n",
       "00000bfd1cce5d57bd67ca12b70acc8cd4df4176                                       0.0   \n",
       "000014674d2afbd30b4a89e7f917b67ade3c31c4                                       0.0   \n",
       "00001dbe00e56fc4b1c1b65dda63de2a5ece55f9                                       0.0   \n",
       "00002d886b0027b4cead503a8a6f71b797721dcc                                       0.0   \n",
       "\n",
       "tag_id                                    008a19c4e6b27ade78d422f9deaba16ef195772b  \\\n",
       "user_id                                                                              \n",
       "00000055a78bf6735c4a89358fab1de34104c3cb                                       0.0   \n",
       "00000bfd1cce5d57bd67ca12b70acc8cd4df4176                                       0.0   \n",
       "000014674d2afbd30b4a89e7f917b67ade3c31c4                                       0.0   \n",
       "00001dbe00e56fc4b1c1b65dda63de2a5ece55f9                                       0.0   \n",
       "00002d886b0027b4cead503a8a6f71b797721dcc                                       0.0   \n",
       "\n",
       "tag_id                                    0108e35fbb3bb7e60c2045386294914255f137eb  \\\n",
       "user_id                                                                              \n",
       "00000055a78bf6735c4a89358fab1de34104c3cb                                       0.0   \n",
       "00000bfd1cce5d57bd67ca12b70acc8cd4df4176                                       0.0   \n",
       "000014674d2afbd30b4a89e7f917b67ade3c31c4                                       0.0   \n",
       "00001dbe00e56fc4b1c1b65dda63de2a5ece55f9                                       0.0   \n",
       "00002d886b0027b4cead503a8a6f71b797721dcc                                       0.0   \n",
       "\n",
       "tag_id                                    01c1f1173136b005f885c4691db374d4762f15e0  \\\n",
       "user_id                                                                              \n",
       "00000055a78bf6735c4a89358fab1de34104c3cb                                       0.0   \n",
       "00000bfd1cce5d57bd67ca12b70acc8cd4df4176                                       0.0   \n",
       "000014674d2afbd30b4a89e7f917b67ade3c31c4                                       0.0   \n",
       "00001dbe00e56fc4b1c1b65dda63de2a5ece55f9                                       0.0   \n",
       "00002d886b0027b4cead503a8a6f71b797721dcc                                       0.0   \n",
       "\n",
       "tag_id                                    022f8f30c65aaeb13def1fb9d700c1937e30da06  \\\n",
       "user_id                                                                              \n",
       "00000055a78bf6735c4a89358fab1de34104c3cb                                       0.0   \n",
       "00000bfd1cce5d57bd67ca12b70acc8cd4df4176                                       0.0   \n",
       "000014674d2afbd30b4a89e7f917b67ade3c31c4                                       0.0   \n",
       "00001dbe00e56fc4b1c1b65dda63de2a5ece55f9                                       0.0   \n",
       "00002d886b0027b4cead503a8a6f71b797721dcc                                       0.0   \n",
       "\n",
       "tag_id                                    0245aa04713eb538ebcb6d6c5667a55f5920d535  \\\n",
       "user_id                                                                              \n",
       "00000055a78bf6735c4a89358fab1de34104c3cb                                       0.0   \n",
       "00000bfd1cce5d57bd67ca12b70acc8cd4df4176                                       0.0   \n",
       "000014674d2afbd30b4a89e7f917b67ade3c31c4                                       0.0   \n",
       "00001dbe00e56fc4b1c1b65dda63de2a5ece55f9                                       0.0   \n",
       "00002d886b0027b4cead503a8a6f71b797721dcc                                       0.0   \n",
       "\n",
       "tag_id                                    02a5da421359cb69816444a48f35c0cb01806ca6  \\\n",
       "user_id                                                                              \n",
       "00000055a78bf6735c4a89358fab1de34104c3cb                                       0.0   \n",
       "00000bfd1cce5d57bd67ca12b70acc8cd4df4176                                       0.0   \n",
       "000014674d2afbd30b4a89e7f917b67ade3c31c4                                       0.0   \n",
       "00001dbe00e56fc4b1c1b65dda63de2a5ece55f9                                       0.0   \n",
       "00002d886b0027b4cead503a8a6f71b797721dcc                                       0.0   \n",
       "\n",
       "tag_id                                                      ...                     \\\n",
       "user_id                                                     ...                      \n",
       "00000055a78bf6735c4a89358fab1de34104c3cb                    ...                      \n",
       "00000bfd1cce5d57bd67ca12b70acc8cd4df4176                    ...                      \n",
       "000014674d2afbd30b4a89e7f917b67ade3c31c4                    ...                      \n",
       "00001dbe00e56fc4b1c1b65dda63de2a5ece55f9                    ...                      \n",
       "00002d886b0027b4cead503a8a6f71b797721dcc                    ...                      \n",
       "\n",
       "tag_id                                    fde652531ae50c7def995f5c5c2b067cd9bdc9de  \\\n",
       "user_id                                                                              \n",
       "00000055a78bf6735c4a89358fab1de34104c3cb                                       0.0   \n",
       "00000bfd1cce5d57bd67ca12b70acc8cd4df4176                                       0.0   \n",
       "000014674d2afbd30b4a89e7f917b67ade3c31c4                                       0.0   \n",
       "00001dbe00e56fc4b1c1b65dda63de2a5ece55f9                                       0.0   \n",
       "00002d886b0027b4cead503a8a6f71b797721dcc                                       0.0   \n",
       "\n",
       "tag_id                                    fe0f9fd1fdfe652523ed4a3a9e57375301bf7144  \\\n",
       "user_id                                                                              \n",
       "00000055a78bf6735c4a89358fab1de34104c3cb                                       0.0   \n",
       "00000bfd1cce5d57bd67ca12b70acc8cd4df4176                                       0.0   \n",
       "000014674d2afbd30b4a89e7f917b67ade3c31c4                                       0.0   \n",
       "00001dbe00e56fc4b1c1b65dda63de2a5ece55f9                                       0.0   \n",
       "00002d886b0027b4cead503a8a6f71b797721dcc                                       0.0   \n",
       "\n",
       "tag_id                                    fe2297da6fbc7992a934f8ce4c848584d73bd1c3  \\\n",
       "user_id                                                                              \n",
       "00000055a78bf6735c4a89358fab1de34104c3cb                                       0.0   \n",
       "00000bfd1cce5d57bd67ca12b70acc8cd4df4176                                       0.0   \n",
       "000014674d2afbd30b4a89e7f917b67ade3c31c4                                       0.0   \n",
       "00001dbe00e56fc4b1c1b65dda63de2a5ece55f9                                       0.0   \n",
       "00002d886b0027b4cead503a8a6f71b797721dcc                                       0.0   \n",
       "\n",
       "tag_id                                    fe5cd317975ca5dada3d9d047133f1925e460053  \\\n",
       "user_id                                                                              \n",
       "00000055a78bf6735c4a89358fab1de34104c3cb                                       0.0   \n",
       "00000bfd1cce5d57bd67ca12b70acc8cd4df4176                                       0.0   \n",
       "000014674d2afbd30b4a89e7f917b67ade3c31c4                                       0.0   \n",
       "00001dbe00e56fc4b1c1b65dda63de2a5ece55f9                                       0.0   \n",
       "00002d886b0027b4cead503a8a6f71b797721dcc                                       0.0   \n",
       "\n",
       "tag_id                                    fe9cd8d22101c48eca5bc3eee51b9dc5e07fe683  \\\n",
       "user_id                                                                              \n",
       "00000055a78bf6735c4a89358fab1de34104c3cb                                       0.0   \n",
       "00000bfd1cce5d57bd67ca12b70acc8cd4df4176                                       0.0   \n",
       "000014674d2afbd30b4a89e7f917b67ade3c31c4                                       0.0   \n",
       "00001dbe00e56fc4b1c1b65dda63de2a5ece55f9                                       0.0   \n",
       "00002d886b0027b4cead503a8a6f71b797721dcc                                       0.0   \n",
       "\n",
       "tag_id                                    fe9e7151b6ae2070c053a80fa37862cfef449cae  \\\n",
       "user_id                                                                              \n",
       "00000055a78bf6735c4a89358fab1de34104c3cb                                       0.0   \n",
       "00000bfd1cce5d57bd67ca12b70acc8cd4df4176                                       0.0   \n",
       "000014674d2afbd30b4a89e7f917b67ade3c31c4                                       0.0   \n",
       "00001dbe00e56fc4b1c1b65dda63de2a5ece55f9                                       0.0   \n",
       "00002d886b0027b4cead503a8a6f71b797721dcc                                       0.0   \n",
       "\n",
       "tag_id                                    fed8505b88adf6d879b4df147b29a068d98faa72  \\\n",
       "user_id                                                                              \n",
       "00000055a78bf6735c4a89358fab1de34104c3cb                                       0.0   \n",
       "00000bfd1cce5d57bd67ca12b70acc8cd4df4176                                       0.0   \n",
       "000014674d2afbd30b4a89e7f917b67ade3c31c4                                       0.0   \n",
       "00001dbe00e56fc4b1c1b65dda63de2a5ece55f9                                       0.0   \n",
       "00002d886b0027b4cead503a8a6f71b797721dcc                                       0.0   \n",
       "\n",
       "tag_id                                    ff0257af2bc7c28cd397a820aa33cde0d04b58b8  \\\n",
       "user_id                                                                              \n",
       "00000055a78bf6735c4a89358fab1de34104c3cb                                       0.0   \n",
       "00000bfd1cce5d57bd67ca12b70acc8cd4df4176                                       0.0   \n",
       "000014674d2afbd30b4a89e7f917b67ade3c31c4                                       0.0   \n",
       "00001dbe00e56fc4b1c1b65dda63de2a5ece55f9                                       0.0   \n",
       "00002d886b0027b4cead503a8a6f71b797721dcc                                       0.0   \n",
       "\n",
       "tag_id                                    ff0d3fb21c00bc33f71187a2beec389e9eff5332  \\\n",
       "user_id                                                                              \n",
       "00000055a78bf6735c4a89358fab1de34104c3cb                                       0.0   \n",
       "00000bfd1cce5d57bd67ca12b70acc8cd4df4176                                       0.0   \n",
       "000014674d2afbd30b4a89e7f917b67ade3c31c4                                       0.0   \n",
       "00001dbe00e56fc4b1c1b65dda63de2a5ece55f9                                       0.0   \n",
       "00002d886b0027b4cead503a8a6f71b797721dcc                                       0.0   \n",
       "\n",
       "tag_id                                    ff664fdace0b1f85828387e81580f871eacb6386  \n",
       "user_id                                                                             \n",
       "00000055a78bf6735c4a89358fab1de34104c3cb                                       0.0  \n",
       "00000bfd1cce5d57bd67ca12b70acc8cd4df4176                                       0.0  \n",
       "000014674d2afbd30b4a89e7f917b67ade3c31c4                                       0.0  \n",
       "00001dbe00e56fc4b1c1b65dda63de2a5ece55f9                                       0.0  \n",
       "00002d886b0027b4cead503a8a6f71b797721dcc                                       0.0  \n",
       "\n",
       "[5 rows x 1000 columns]"
      ]
     },
     "execution_count": 6,
     "metadata": {},
     "output_type": "execute_result"
    }
   ],
   "source": [
    "# Prepare data to user-item matrix\n",
    "train_data.drop(['id'], axis=1, inplace = True)\n",
    "train_data['rating'] = 1\n",
    "user_item = train_data.pivot(index = 'user_id', columns ='tag_id', values = 'rating').fillna(0)\n",
    "user_item.head()"
   ]
  },
  {
   "cell_type": "markdown",
   "metadata": {},
   "source": [
    "### 1.4 - Matrix normalization"
   ]
  },
  {
   "cell_type": "markdown",
   "metadata": {},
   "source": [
    "In next step, user-item matrix is normalized, to not give more importance to users that has lots items liked"
   ]
  },
  {
   "cell_type": "code",
   "execution_count": 7,
   "metadata": {
    "scrolled": false
   },
   "outputs": [],
   "source": [
    "# Normalize user-item matrix\n",
    "norms = LA.norm(user_item.values, axis=1).reshape(-1,1)\n",
    "user_item_norm = user_item.values / norms"
   ]
  },
  {
   "attachments": {
    "image.png": {
     "image/png": "[encoded data removed]"
    }
   },
   "cell_type": "markdown",
   "metadata": {},
   "source": [
    "## 2 - Memory based approach: Item-item collaborative filtering\n",
    "\n",
    "Memory based methods are divided in two groups:\n",
    "\n",
    "- **User-item collaborative filtering:** This approach takes any user, find users with similar based on their scores and recommend items that those similar users liked. \"Users that are similar to the user chosen also liked these items\"\n",
    "\n",
    "- **Item-item collaborative filtering:** This approach takes any item, find users that liked this item and find another items that those users liked. \"Users who liked the chosen item also like these items\"\n",
    "\n",
    "In this notebook it is presented item-item solution, so to create item-item matrix we needed cosine similarity\n",
    "\n",
    "![image.png](attachment:image.png)"
   ]
  },
  {
   "cell_type": "code",
   "execution_count": 8,
   "metadata": {
    "scrolled": true
   },
   "outputs": [
    {
     "data": {
      "text/html": [
       "<div>\n",
       "<style scoped>\n",
       "    .dataframe tbody tr th:only-of-type {\n",
       "        vertical-align: middle;\n",
       "    }\n",
       "\n",
       "    .dataframe tbody tr th {\n",
       "        vertical-align: top;\n",
       "    }\n",
       "\n",
       "    .dataframe thead th {\n",
       "        text-align: right;\n",
       "    }\n",
       "</style>\n",
       "<table border=\"1\" class=\"dataframe\">\n",
       "  <thead>\n",
       "    <tr style=\"text-align: right;\">\n",
       "      <th>tag_id</th>\n",
       "      <th>00410345e6d60633a211ebd3755d5c89ea7b5297</th>\n",
       "      <th>005703ee98894846cde759fbe88f3d7fde830c85</th>\n",
       "      <th>0076e2a45d90991150032dbfaa574b4b7ab21177</th>\n",
       "      <th>0087f6286f5bd4f872620555b3e3b880e21de444</th>\n",
       "      <th>008a19c4e6b27ade78d422f9deaba16ef195772b</th>\n",
       "      <th>0108e35fbb3bb7e60c2045386294914255f137eb</th>\n",
       "      <th>01c1f1173136b005f885c4691db374d4762f15e0</th>\n",
       "      <th>022f8f30c65aaeb13def1fb9d700c1937e30da06</th>\n",
       "      <th>0245aa04713eb538ebcb6d6c5667a55f5920d535</th>\n",
       "      <th>02a5da421359cb69816444a48f35c0cb01806ca6</th>\n",
       "      <th>...</th>\n",
       "      <th>fde652531ae50c7def995f5c5c2b067cd9bdc9de</th>\n",
       "      <th>fe0f9fd1fdfe652523ed4a3a9e57375301bf7144</th>\n",
       "      <th>fe2297da6fbc7992a934f8ce4c848584d73bd1c3</th>\n",
       "      <th>fe5cd317975ca5dada3d9d047133f1925e460053</th>\n",
       "      <th>fe9cd8d22101c48eca5bc3eee51b9dc5e07fe683</th>\n",
       "      <th>fe9e7151b6ae2070c053a80fa37862cfef449cae</th>\n",
       "      <th>fed8505b88adf6d879b4df147b29a068d98faa72</th>\n",
       "      <th>ff0257af2bc7c28cd397a820aa33cde0d04b58b8</th>\n",
       "      <th>ff0d3fb21c00bc33f71187a2beec389e9eff5332</th>\n",
       "      <th>ff664fdace0b1f85828387e81580f871eacb6386</th>\n",
       "    </tr>\n",
       "    <tr>\n",
       "      <th>tag_id</th>\n",
       "      <th></th>\n",
       "      <th></th>\n",
       "      <th></th>\n",
       "      <th></th>\n",
       "      <th></th>\n",
       "      <th></th>\n",
       "      <th></th>\n",
       "      <th></th>\n",
       "      <th></th>\n",
       "      <th></th>\n",
       "      <th></th>\n",
       "      <th></th>\n",
       "      <th></th>\n",
       "      <th></th>\n",
       "      <th></th>\n",
       "      <th></th>\n",
       "      <th></th>\n",
       "      <th></th>\n",
       "      <th></th>\n",
       "      <th></th>\n",
       "      <th></th>\n",
       "    </tr>\n",
       "  </thead>\n",
       "  <tbody>\n",
       "    <tr>\n",
       "      <th>00410345e6d60633a211ebd3755d5c89ea7b5297</th>\n",
       "      <td>1.000000</td>\n",
       "      <td>0.0</td>\n",
       "      <td>0.027659</td>\n",
       "      <td>0.0</td>\n",
       "      <td>0.000000</td>\n",
       "      <td>0.0</td>\n",
       "      <td>0.018121</td>\n",
       "      <td>0.000000</td>\n",
       "      <td>0.0</td>\n",
       "      <td>0.011351</td>\n",
       "      <td>...</td>\n",
       "      <td>0.0</td>\n",
       "      <td>0.000000</td>\n",
       "      <td>0.011971</td>\n",
       "      <td>0.004901</td>\n",
       "      <td>0.0</td>\n",
       "      <td>0.000000</td>\n",
       "      <td>0.000000</td>\n",
       "      <td>0.000000</td>\n",
       "      <td>0.000000</td>\n",
       "      <td>0.0</td>\n",
       "    </tr>\n",
       "    <tr>\n",
       "      <th>005703ee98894846cde759fbe88f3d7fde830c85</th>\n",
       "      <td>0.000000</td>\n",
       "      <td>1.0</td>\n",
       "      <td>0.000000</td>\n",
       "      <td>0.0</td>\n",
       "      <td>0.000000</td>\n",
       "      <td>0.0</td>\n",
       "      <td>0.000000</td>\n",
       "      <td>0.000000</td>\n",
       "      <td>0.0</td>\n",
       "      <td>0.000000</td>\n",
       "      <td>...</td>\n",
       "      <td>0.0</td>\n",
       "      <td>0.000000</td>\n",
       "      <td>0.000000</td>\n",
       "      <td>0.000000</td>\n",
       "      <td>0.0</td>\n",
       "      <td>0.000000</td>\n",
       "      <td>0.000000</td>\n",
       "      <td>0.000000</td>\n",
       "      <td>0.000000</td>\n",
       "      <td>0.0</td>\n",
       "    </tr>\n",
       "    <tr>\n",
       "      <th>0076e2a45d90991150032dbfaa574b4b7ab21177</th>\n",
       "      <td>0.027659</td>\n",
       "      <td>0.0</td>\n",
       "      <td>1.000000</td>\n",
       "      <td>0.0</td>\n",
       "      <td>0.028854</td>\n",
       "      <td>0.0</td>\n",
       "      <td>0.052853</td>\n",
       "      <td>0.058419</td>\n",
       "      <td>0.0</td>\n",
       "      <td>0.033109</td>\n",
       "      <td>...</td>\n",
       "      <td>0.0</td>\n",
       "      <td>0.019334</td>\n",
       "      <td>0.034916</td>\n",
       "      <td>0.014294</td>\n",
       "      <td>0.0</td>\n",
       "      <td>0.018493</td>\n",
       "      <td>0.000000</td>\n",
       "      <td>0.000000</td>\n",
       "      <td>0.000000</td>\n",
       "      <td>0.0</td>\n",
       "    </tr>\n",
       "    <tr>\n",
       "      <th>0087f6286f5bd4f872620555b3e3b880e21de444</th>\n",
       "      <td>0.000000</td>\n",
       "      <td>0.0</td>\n",
       "      <td>0.000000</td>\n",
       "      <td>1.0</td>\n",
       "      <td>0.000000</td>\n",
       "      <td>0.0</td>\n",
       "      <td>0.000000</td>\n",
       "      <td>0.005391</td>\n",
       "      <td>0.0</td>\n",
       "      <td>0.000000</td>\n",
       "      <td>...</td>\n",
       "      <td>0.0</td>\n",
       "      <td>0.000000</td>\n",
       "      <td>0.000000</td>\n",
       "      <td>0.000000</td>\n",
       "      <td>0.0</td>\n",
       "      <td>0.000000</td>\n",
       "      <td>0.023841</td>\n",
       "      <td>0.053486</td>\n",
       "      <td>0.000000</td>\n",
       "      <td>0.0</td>\n",
       "    </tr>\n",
       "    <tr>\n",
       "      <th>008a19c4e6b27ade78d422f9deaba16ef195772b</th>\n",
       "      <td>0.000000</td>\n",
       "      <td>0.0</td>\n",
       "      <td>0.028854</td>\n",
       "      <td>0.0</td>\n",
       "      <td>1.000000</td>\n",
       "      <td>0.0</td>\n",
       "      <td>0.000000</td>\n",
       "      <td>0.005817</td>\n",
       "      <td>0.0</td>\n",
       "      <td>0.000000</td>\n",
       "      <td>...</td>\n",
       "      <td>0.0</td>\n",
       "      <td>0.021562</td>\n",
       "      <td>0.000000</td>\n",
       "      <td>0.000000</td>\n",
       "      <td>0.0</td>\n",
       "      <td>0.046702</td>\n",
       "      <td>0.000000</td>\n",
       "      <td>0.000000</td>\n",
       "      <td>0.037532</td>\n",
       "      <td>0.0</td>\n",
       "    </tr>\n",
       "  </tbody>\n",
       "</table>\n",
       "<p>5 rows × 1000 columns</p>\n",
       "</div>"
      ],
      "text/plain": [
       "tag_id                                    00410345e6d60633a211ebd3755d5c89ea7b5297  \\\n",
       "tag_id                                                                               \n",
       "00410345e6d60633a211ebd3755d5c89ea7b5297                                  1.000000   \n",
       "005703ee98894846cde759fbe88f3d7fde830c85                                  0.000000   \n",
       "0076e2a45d90991150032dbfaa574b4b7ab21177                                  0.027659   \n",
       "0087f6286f5bd4f872620555b3e3b880e21de444                                  0.000000   \n",
       "008a19c4e6b27ade78d422f9deaba16ef195772b                                  0.000000   \n",
       "\n",
       "tag_id                                    005703ee98894846cde759fbe88f3d7fde830c85  \\\n",
       "tag_id                                                                               \n",
       "00410345e6d60633a211ebd3755d5c89ea7b5297                                       0.0   \n",
       "005703ee98894846cde759fbe88f3d7fde830c85                                       1.0   \n",
       "0076e2a45d90991150032dbfaa574b4b7ab21177                                       0.0   \n",
       "0087f6286f5bd4f872620555b3e3b880e21de444                                       0.0   \n",
       "008a19c4e6b27ade78d422f9deaba16ef195772b                                       0.0   \n",
       "\n",
       "tag_id                                    0076e2a45d90991150032dbfaa574b4b7ab21177  \\\n",
       "tag_id                                                                               \n",
       "00410345e6d60633a211ebd3755d5c89ea7b5297                                  0.027659   \n",
       "005703ee98894846cde759fbe88f3d7fde830c85                                  0.000000   \n",
       "0076e2a45d90991150032dbfaa574b4b7ab21177                                  1.000000   \n",
       "0087f6286f5bd4f872620555b3e3b880e21de444                                  0.000000   \n",
       "008a19c4e6b27ade78d422f9deaba16ef195772b                                  0.028854   \n",
       "\n",
       "tag_id                                    0087f6286f5bd4f872620555b3e3b880e21de444  \\\n",
       "tag_id                                                                               \n",
       "00410345e6d60633a211ebd3755d5c89ea7b5297                                       0.0   \n",
       "005703ee98894846cde759fbe88f3d7fde830c85                                       0.0   \n",
       "0076e2a45d90991150032dbfaa574b4b7ab21177                                       0.0   \n",
       "0087f6286f5bd4f872620555b3e3b880e21de444                                       1.0   \n",
       "008a19c4e6b27ade78d422f9deaba16ef195772b                                       0.0   \n",
       "\n",
       "tag_id                                    008a19c4e6b27ade78d422f9deaba16ef195772b  \\\n",
       "tag_id                                                                               \n",
       "00410345e6d60633a211ebd3755d5c89ea7b5297                                  0.000000   \n",
       "005703ee98894846cde759fbe88f3d7fde830c85                                  0.000000   \n",
       "0076e2a45d90991150032dbfaa574b4b7ab21177                                  0.028854   \n",
       "0087f6286f5bd4f872620555b3e3b880e21de444                                  0.000000   \n",
       "008a19c4e6b27ade78d422f9deaba16ef195772b                                  1.000000   \n",
       "\n",
       "tag_id                                    0108e35fbb3bb7e60c2045386294914255f137eb  \\\n",
       "tag_id                                                                               \n",
       "00410345e6d60633a211ebd3755d5c89ea7b5297                                       0.0   \n",
       "005703ee98894846cde759fbe88f3d7fde830c85                                       0.0   \n",
       "0076e2a45d90991150032dbfaa574b4b7ab21177                                       0.0   \n",
       "0087f6286f5bd4f872620555b3e3b880e21de444                                       0.0   \n",
       "008a19c4e6b27ade78d422f9deaba16ef195772b                                       0.0   \n",
       "\n",
       "tag_id                                    01c1f1173136b005f885c4691db374d4762f15e0  \\\n",
       "tag_id                                                                               \n",
       "00410345e6d60633a211ebd3755d5c89ea7b5297                                  0.018121   \n",
       "005703ee98894846cde759fbe88f3d7fde830c85                                  0.000000   \n",
       "0076e2a45d90991150032dbfaa574b4b7ab21177                                  0.052853   \n",
       "0087f6286f5bd4f872620555b3e3b880e21de444                                  0.000000   \n",
       "008a19c4e6b27ade78d422f9deaba16ef195772b                                  0.000000   \n",
       "\n",
       "tag_id                                    022f8f30c65aaeb13def1fb9d700c1937e30da06  \\\n",
       "tag_id                                                                               \n",
       "00410345e6d60633a211ebd3755d5c89ea7b5297                                  0.000000   \n",
       "005703ee98894846cde759fbe88f3d7fde830c85                                  0.000000   \n",
       "0076e2a45d90991150032dbfaa574b4b7ab21177                                  0.058419   \n",
       "0087f6286f5bd4f872620555b3e3b880e21de444                                  0.005391   \n",
       "008a19c4e6b27ade78d422f9deaba16ef195772b                                  0.005817   \n",
       "\n",
       "tag_id                                    0245aa04713eb538ebcb6d6c5667a55f5920d535  \\\n",
       "tag_id                                                                               \n",
       "00410345e6d60633a211ebd3755d5c89ea7b5297                                       0.0   \n",
       "005703ee98894846cde759fbe88f3d7fde830c85                                       0.0   \n",
       "0076e2a45d90991150032dbfaa574b4b7ab21177                                       0.0   \n",
       "0087f6286f5bd4f872620555b3e3b880e21de444                                       0.0   \n",
       "008a19c4e6b27ade78d422f9deaba16ef195772b                                       0.0   \n",
       "\n",
       "tag_id                                    02a5da421359cb69816444a48f35c0cb01806ca6  \\\n",
       "tag_id                                                                               \n",
       "00410345e6d60633a211ebd3755d5c89ea7b5297                                  0.011351   \n",
       "005703ee98894846cde759fbe88f3d7fde830c85                                  0.000000   \n",
       "0076e2a45d90991150032dbfaa574b4b7ab21177                                  0.033109   \n",
       "0087f6286f5bd4f872620555b3e3b880e21de444                                  0.000000   \n",
       "008a19c4e6b27ade78d422f9deaba16ef195772b                                  0.000000   \n",
       "\n",
       "tag_id                                                      ...                     \\\n",
       "tag_id                                                      ...                      \n",
       "00410345e6d60633a211ebd3755d5c89ea7b5297                    ...                      \n",
       "005703ee98894846cde759fbe88f3d7fde830c85                    ...                      \n",
       "0076e2a45d90991150032dbfaa574b4b7ab21177                    ...                      \n",
       "0087f6286f5bd4f872620555b3e3b880e21de444                    ...                      \n",
       "008a19c4e6b27ade78d422f9deaba16ef195772b                    ...                      \n",
       "\n",
       "tag_id                                    fde652531ae50c7def995f5c5c2b067cd9bdc9de  \\\n",
       "tag_id                                                                               \n",
       "00410345e6d60633a211ebd3755d5c89ea7b5297                                       0.0   \n",
       "005703ee98894846cde759fbe88f3d7fde830c85                                       0.0   \n",
       "0076e2a45d90991150032dbfaa574b4b7ab21177                                       0.0   \n",
       "0087f6286f5bd4f872620555b3e3b880e21de444                                       0.0   \n",
       "008a19c4e6b27ade78d422f9deaba16ef195772b                                       0.0   \n",
       "\n",
       "tag_id                                    fe0f9fd1fdfe652523ed4a3a9e57375301bf7144  \\\n",
       "tag_id                                                                               \n",
       "00410345e6d60633a211ebd3755d5c89ea7b5297                                  0.000000   \n",
       "005703ee98894846cde759fbe88f3d7fde830c85                                  0.000000   \n",
       "0076e2a45d90991150032dbfaa574b4b7ab21177                                  0.019334   \n",
       "0087f6286f5bd4f872620555b3e3b880e21de444                                  0.000000   \n",
       "008a19c4e6b27ade78d422f9deaba16ef195772b                                  0.021562   \n",
       "\n",
       "tag_id                                    fe2297da6fbc7992a934f8ce4c848584d73bd1c3  \\\n",
       "tag_id                                                                               \n",
       "00410345e6d60633a211ebd3755d5c89ea7b5297                                  0.011971   \n",
       "005703ee98894846cde759fbe88f3d7fde830c85                                  0.000000   \n",
       "0076e2a45d90991150032dbfaa574b4b7ab21177                                  0.034916   \n",
       "0087f6286f5bd4f872620555b3e3b880e21de444                                  0.000000   \n",
       "008a19c4e6b27ade78d422f9deaba16ef195772b                                  0.000000   \n",
       "\n",
       "tag_id                                    fe5cd317975ca5dada3d9d047133f1925e460053  \\\n",
       "tag_id                                                                               \n",
       "00410345e6d60633a211ebd3755d5c89ea7b5297                                  0.004901   \n",
       "005703ee98894846cde759fbe88f3d7fde830c85                                  0.000000   \n",
       "0076e2a45d90991150032dbfaa574b4b7ab21177                                  0.014294   \n",
       "0087f6286f5bd4f872620555b3e3b880e21de444                                  0.000000   \n",
       "008a19c4e6b27ade78d422f9deaba16ef195772b                                  0.000000   \n",
       "\n",
       "tag_id                                    fe9cd8d22101c48eca5bc3eee51b9dc5e07fe683  \\\n",
       "tag_id                                                                               \n",
       "00410345e6d60633a211ebd3755d5c89ea7b5297                                       0.0   \n",
       "005703ee98894846cde759fbe88f3d7fde830c85                                       0.0   \n",
       "0076e2a45d90991150032dbfaa574b4b7ab21177                                       0.0   \n",
       "0087f6286f5bd4f872620555b3e3b880e21de444                                       0.0   \n",
       "008a19c4e6b27ade78d422f9deaba16ef195772b                                       0.0   \n",
       "\n",
       "tag_id                                    fe9e7151b6ae2070c053a80fa37862cfef449cae  \\\n",
       "tag_id                                                                               \n",
       "00410345e6d60633a211ebd3755d5c89ea7b5297                                  0.000000   \n",
       "005703ee98894846cde759fbe88f3d7fde830c85                                  0.000000   \n",
       "0076e2a45d90991150032dbfaa574b4b7ab21177                                  0.018493   \n",
       "0087f6286f5bd4f872620555b3e3b880e21de444                                  0.000000   \n",
       "008a19c4e6b27ade78d422f9deaba16ef195772b                                  0.046702   \n",
       "\n",
       "tag_id                                    fed8505b88adf6d879b4df147b29a068d98faa72  \\\n",
       "tag_id                                                                               \n",
       "00410345e6d60633a211ebd3755d5c89ea7b5297                                  0.000000   \n",
       "005703ee98894846cde759fbe88f3d7fde830c85                                  0.000000   \n",
       "0076e2a45d90991150032dbfaa574b4b7ab21177                                  0.000000   \n",
       "0087f6286f5bd4f872620555b3e3b880e21de444                                  0.023841   \n",
       "008a19c4e6b27ade78d422f9deaba16ef195772b                                  0.000000   \n",
       "\n",
       "tag_id                                    ff0257af2bc7c28cd397a820aa33cde0d04b58b8  \\\n",
       "tag_id                                                                               \n",
       "00410345e6d60633a211ebd3755d5c89ea7b5297                                  0.000000   \n",
       "005703ee98894846cde759fbe88f3d7fde830c85                                  0.000000   \n",
       "0076e2a45d90991150032dbfaa574b4b7ab21177                                  0.000000   \n",
       "0087f6286f5bd4f872620555b3e3b880e21de444                                  0.053486   \n",
       "008a19c4e6b27ade78d422f9deaba16ef195772b                                  0.000000   \n",
       "\n",
       "tag_id                                    ff0d3fb21c00bc33f71187a2beec389e9eff5332  \\\n",
       "tag_id                                                                               \n",
       "00410345e6d60633a211ebd3755d5c89ea7b5297                                  0.000000   \n",
       "005703ee98894846cde759fbe88f3d7fde830c85                                  0.000000   \n",
       "0076e2a45d90991150032dbfaa574b4b7ab21177                                  0.000000   \n",
       "0087f6286f5bd4f872620555b3e3b880e21de444                                  0.000000   \n",
       "008a19c4e6b27ade78d422f9deaba16ef195772b                                  0.037532   \n",
       "\n",
       "tag_id                                    ff664fdace0b1f85828387e81580f871eacb6386  \n",
       "tag_id                                                                              \n",
       "00410345e6d60633a211ebd3755d5c89ea7b5297                                       0.0  \n",
       "005703ee98894846cde759fbe88f3d7fde830c85                                       0.0  \n",
       "0076e2a45d90991150032dbfaa574b4b7ab21177                                       0.0  \n",
       "0087f6286f5bd4f872620555b3e3b880e21de444                                       0.0  \n",
       "008a19c4e6b27ade78d422f9deaba16ef195772b                                       0.0  \n",
       "\n",
       "[5 rows x 1000 columns]"
      ]
     },
     "execution_count": 8,
     "metadata": {},
     "output_type": "execute_result"
    }
   ],
   "source": [
    "# Item Similarity Matrix\n",
    "item_item = cosine_similarity(user_item_norm.T)\n",
    "item_item = pd.DataFrame(item_item, index= user_item.columns, columns=user_item.columns)\n",
    "item_item.head()"
   ]
  },
  {
   "cell_type": "markdown",
   "metadata": {},
   "source": [
    "Once item-item similarity matrix is obtained, it is possible to make some predictions. Specifically, we will compute the rating of every user in train set for each item"
   ]
  },
  {
   "cell_type": "code",
   "execution_count": 9,
   "metadata": {
    "scrolled": true
   },
   "outputs": [],
   "source": [
    "item_prediction = user_item_norm.dot(item_item) / (np.array([np.abs(item_item).sum(axis=1)]) + 10e-9)\n",
    "item_prediction = pd.DataFrame(item_prediction, index= user_item.index, columns=user_item.columns)"
   ]
  },
  {
   "cell_type": "markdown",
   "metadata": {},
   "source": [
    "Let's see what items we recommend to the first user.\n",
    "To do this:\n",
    "    - We order user vector ratings\n",
    "    - Compare items that user has already liked and delete them\n",
    "    - Recommend 10 items for user"
   ]
  },
  {
   "cell_type": "code",
   "execution_count": 10,
   "metadata": {},
   "outputs": [],
   "source": [
    "user = '00000055a78bf6735c4a89358fab1de34104c3cb'\n",
    "items = item_prediction.columns.values\n",
    "items_train = train_data.loc[train_data['user_id'] == user, 'tag_id'].values    \n",
    "index_items_train = np.argwhere(np.isin(items, items_train)).flatten()\n",
    "items_test = test_data.loc[test_data['user_id'] == user, 'tag_id'].values\n",
    "index_items_test = np.argwhere(np.isin(items, items_test)).flatten()\n",
    "\n",
    "prediction_user = item_prediction.loc[user, :].values\n",
    "sort_index_prediction = np.argsort(prediction_user)[::-1]\n",
    "\n",
    "index_items_top_predicted = sort_index_prediction[~np.isin(sort_index_prediction, index_items_train)][:10]\n",
    "items_top_predicted = items[index_items_top_predicted]"
   ]
  },
  {
   "cell_type": "markdown",
   "metadata": {},
   "source": [
    "Let's print items recommended and items that user has in test set"
   ]
  },
  {
   "cell_type": "code",
   "execution_count": 11,
   "metadata": {},
   "outputs": [
    {
     "name": "stdout",
     "output_type": "stream",
     "text": [
      "items recommended:\n",
      "['5c61cd1b82ec7a4d2918a6de99fcd1577b462f79'\n",
      " '642b8a4788b43df14fccc16ba2c926c1a42a736f'\n",
      " '8378136c6dd0e03be859a210a0cee03955951fb1'\n",
      " 'e78de9dad70d230a096f0bbdc3e89b5cae04ba77'\n",
      " '03dd382ae49f2579667496e58e1686f7d9ad58ce'\n",
      " 'e07803b0cd21e9ad8dd4fbd12985e4359da5436a'\n",
      " 'c7a0a83939c8dd0f10bde2b8162196c39049c41f'\n",
      " '89de5215045c7c53e27afd5e7e872a60ce49fa1b'\n",
      " '17e899eebd1a5d51fb708c6afff76c03bcf1d635'\n",
      " '51ca7b72b7dcd53989f97340b591d4b32e47c2b7']\n",
      "\n",
      "items in test:\n",
      "['e78de9dad70d230a096f0bbdc3e89b5cae04ba77'\n",
      " 'b9a521730141de9bc4fe8ebc9f33713411d0101a'\n",
      " '8378136c6dd0e03be859a210a0cee03955951fb1'\n",
      " '5c61cd1b82ec7a4d2918a6de99fcd1577b462f79'\n",
      " 'c093b1743115b3f9d368b2f7bdf54f367afccc7c']\n"
     ]
    }
   ],
   "source": [
    "print('items recommended:')\n",
    "print(items_top_predicted)\n",
    "print()\n",
    "print('items in test:')\n",
    "print(items_test)"
   ]
  },
  {
   "cell_type": "markdown",
   "metadata": {},
   "source": [
    "We can see that items :\n",
    "    - 'e78de9dad70d230a096f0bbdc3e89b5cae04ba77' \n",
    "    - '5c61cd1b82ec7a4d2918a6de99fcd1577b462f79' \n",
    "    - '8378136c6dd0e03be859a210a0cee03955951fb1'\n",
    "are well recommended. \n",
    "\n",
    "So, te recall for this user is:\n",
    "    - recall = true_positive / (true_positive + false_negative) = 3 / 5 = 0.6\n",
    "    \n",
    "We will not calculate precision because if we recommend 10 items and in test any user has less than 10 items precision will be small."
   ]
  },
  {
   "cell_type": "markdown",
   "metadata": {},
   "source": [
    "Next step is make the same computation for all users"
   ]
  },
  {
   "cell_type": "code",
   "execution_count": 12,
   "metadata": {},
   "outputs": [],
   "source": [
    "# Get lists of items, users in test and users in train\n",
    "items = item_prediction.columns.values\n",
    "users_test = test_data['user_id'].unique()\n",
    "users_train = train_data['user_id'].unique()"
   ]
  },
  {
   "cell_type": "code",
   "execution_count": 13,
   "metadata": {
    "scrolled": true
   },
   "outputs": [
    {
     "name": "stdout",
     "output_type": "stream",
     "text": [
      "Recall of model is: 0.22813299232736572\n"
     ]
    }
   ],
   "source": [
    "# Create recommendations and compute recall\n",
    "tp = 0\n",
    "fn = 0\n",
    "\n",
    "for user in users_test:\n",
    "    if user not in users_train:\n",
    "        continue\n",
    "        \n",
    "    items_train = train_data.loc[train_data['user_id'] == user, 'tag_id'].values    \n",
    "    index_items_train = np.argwhere(np.isin(items, items_train)).flatten()\n",
    "    items_test = test_data.loc[test_data['user_id'] == user, 'tag_id'].values\n",
    "    index_items_test = np.argwhere(np.isin(items, items_test)).flatten()\n",
    "    \n",
    "    prediction_user = item_prediction.loc[user, :].values\n",
    "    sort_index_prediction = np.argsort(prediction_user)[::-1]\n",
    "    index_items_top_predicted = sort_index_prediction[~np.isin(sort_index_prediction, index_items_train)][:10]\n",
    "    items_top_predicted = items[index_items_top_predicted]\n",
    "    \n",
    "    tp += np.isin(index_items_top_predicted, index_items_test).sum()\n",
    "    fn += (~np.isin(index_items_test, index_items_top_predicted)).sum()\n",
    "    \n",
    "recall = tp / (tp+fn)\n",
    "\n",
    "print('Recall of model is: ' + str(recall))"
   ]
  },
  {
   "attachments": {
    "image.png": {
     "image/png": "[encoded data removed]"
    }
   },
   "cell_type": "markdown",
   "metadata": {},
   "source": [
    "## 3 - Model based approach: Using Implicit package. Alternative Least Squares for Matrix factorization\n",
    "\n",
    "ALS is an iterative optimization process to factorize a matrix.\n",
    "\n",
    "In this case, we will factorize user-item matrix(R) with dimensions (u,i) and obtain two matrix with U(users) and V(items) where R ≈ U x V\n",
    "\n",
    "Resulting matrix U will have dimensions (u, k) and V will have dimensions (k, i). This number k are the latent factors als algorithm\n",
    "\n",
    "![image.png](attachment:image.png)"
   ]
  },
  {
   "cell_type": "markdown",
   "metadata": {},
   "source": [
    "In this section we will use, implicit package to make factorization matrix with ALS algorithm, and to make recommendations. <br>\n",
    "To create ALS model it is necessary to define:\n",
    "    - number of latent factors (k)\n",
    "    - confidence factor (alpha_val)\n",
    "In this case we will realize the first run with:\n",
    "    - k = 20\n",
    "    - alpha_val = 40"
   ]
  },
  {
   "cell_type": "code",
   "execution_count": 14,
   "metadata": {},
   "outputs": [
    {
     "name": "stderr",
     "output_type": "stream",
     "text": [
      "WARNING:root:OpenBLAS detected. Its highly recommend to set the environment variable 'export OPENBLAS_NUM_THREADS=1' to disable its internal multithreading\n",
      "100%|██████████| 20.0/20 [00:00<00:00, 21.36it/s]\n"
     ]
    },
    {
     "name": "stdout",
     "output_type": "stream",
     "text": [
      "Recall of model is: 0.23529411764705882\n"
     ]
    }
   ],
   "source": [
    "# Create sparse matrix\n",
    "sparse_user_item = sparse.csr_matrix(user_item_norm)\n",
    "sparse_item_user = sparse.csr_matrix(user_item_norm.T)\n",
    "\n",
    "# Initialize the model ALS\n",
    "model = implicit.als.AlternatingLeastSquares(factors=20, regularization=0.1, iterations=20)\n",
    "\n",
    "# Multiply matrix by confidence\n",
    "alpha_val = 40\n",
    "data_conf = (sparse_item_user * alpha_val)\n",
    "\n",
    "# Fit model\n",
    "model.fit(data_conf)\n",
    "\n",
    "# Create recommendations and compute recall\n",
    "tp = 0\n",
    "fn = 0\n",
    "\n",
    "for user in users_test:\n",
    "    if user not in users_train:\n",
    "        continue\n",
    "    \n",
    "    items_test = test_data.loc[test_data['user_id'] == user, 'tag_id'].values\n",
    "    index_items_test = np.argwhere(np.isin(items, items_test)).flatten()\n",
    "    \n",
    "    idx = np.argwhere(users_train == user)[0][0]\n",
    "    model.recommend(idx, sparse_user_item, N=10)\n",
    "    index_items_top_predicted = model.recommend(idx, sparse_user_item, N=10)\n",
    "    index_items_top_predicted = [ind for ind, scr in index_items_top_predicted]\n",
    "    \n",
    "    tp += np.isin(index_items_top_predicted, index_items_test).sum()\n",
    "    fn += (~np.isin(index_items_test, index_items_top_predicted)).sum()\n",
    "    \n",
    "recall = tp / (tp+fn)\n",
    "\n",
    "print('Recall of model is: ' + str(recall))"
   ]
  },
  {
   "cell_type": "markdown",
   "metadata": {},
   "source": [
    "As we can see, we obtain a better recall.<br><br>\n",
    "Now it's time to make hyperparameter tunning to get the best values for k and alpha_val<br>\n",
    "We will make a search grid with:\n",
    "    - k = [10, 20, 30, 40, 50, 100]\n",
    "    - alpha_val = [15, 20, 30, 40, 50]"
   ]
  },
  {
   "cell_type": "code",
   "execution_count": 15,
   "metadata": {},
   "outputs": [
    {
     "name": "stdout",
     "output_type": "stream",
     "text": [
      "CV with factors=10, alpha_val=15\n"
     ]
    },
    {
     "name": "stderr",
     "output_type": "stream",
     "text": [
      "100%|██████████| 20.0/20 [00:00<00:00, 29.56it/s]\n"
     ]
    },
    {
     "name": "stdout",
     "output_type": "stream",
     "text": [
      "Recall of model is: 0.2020460358056266\n",
      "CV with factors=10, alpha_val=20\n"
     ]
    },
    {
     "name": "stderr",
     "output_type": "stream",
     "text": [
      "100%|██████████| 20.0/20 [00:00<00:00, 29.78it/s]\n"
     ]
    },
    {
     "name": "stdout",
     "output_type": "stream",
     "text": [
      "Recall of model is: 0.19130434782608696\n",
      "CV with factors=10, alpha_val=30\n"
     ]
    },
    {
     "name": "stderr",
     "output_type": "stream",
     "text": [
      "100%|██████████| 20.0/20 [00:00<00:00, 25.34it/s]\n"
     ]
    },
    {
     "name": "stdout",
     "output_type": "stream",
     "text": [
      "Recall of model is: 0.19130434782608696\n",
      "CV with factors=10, alpha_val=40\n"
     ]
    },
    {
     "name": "stderr",
     "output_type": "stream",
     "text": [
      "100%|██████████| 20.0/20 [00:00<00:00, 20.94it/s]\n"
     ]
    },
    {
     "name": "stdout",
     "output_type": "stream",
     "text": [
      "Recall of model is: 0.18721227621483377\n",
      "CV with factors=10, alpha_val=50\n"
     ]
    },
    {
     "name": "stderr",
     "output_type": "stream",
     "text": [
      "100%|██████████| 20.0/20 [00:00<00:00, 24.62it/s]\n"
     ]
    },
    {
     "name": "stdout",
     "output_type": "stream",
     "text": [
      "Recall of model is: 0.20153452685421994\n",
      "CV with factors=20, alpha_val=15\n"
     ]
    },
    {
     "name": "stderr",
     "output_type": "stream",
     "text": [
      "100%|██████████| 20.0/20 [00:00<00:00, 22.76it/s]\n"
     ]
    },
    {
     "name": "stdout",
     "output_type": "stream",
     "text": [
      "Recall of model is: 0.22813299232736572\n",
      "CV with factors=20, alpha_val=20\n"
     ]
    },
    {
     "name": "stderr",
     "output_type": "stream",
     "text": [
      "100%|██████████| 20.0/20 [00:01<00:00, 15.02it/s]\n"
     ]
    },
    {
     "name": "stdout",
     "output_type": "stream",
     "text": [
      "Recall of model is: 0.239386189258312\n",
      "CV with factors=20, alpha_val=30\n"
     ]
    },
    {
     "name": "stderr",
     "output_type": "stream",
     "text": [
      "100%|██████████| 20.0/20 [00:01<00:00, 18.89it/s]\n"
     ]
    },
    {
     "name": "stdout",
     "output_type": "stream",
     "text": [
      "Recall of model is: 0.23785166240409208\n",
      "CV with factors=20, alpha_val=40\n"
     ]
    },
    {
     "name": "stderr",
     "output_type": "stream",
     "text": [
      "100%|██████████| 20.0/20 [00:01<00:00, 17.01it/s]\n"
     ]
    },
    {
     "name": "stdout",
     "output_type": "stream",
     "text": [
      "Recall of model is: 0.23836317135549873\n",
      "CV with factors=20, alpha_val=50\n"
     ]
    },
    {
     "name": "stderr",
     "output_type": "stream",
     "text": [
      "100%|██████████| 20.0/20 [00:00<00:00, 21.85it/s]\n"
     ]
    },
    {
     "name": "stdout",
     "output_type": "stream",
     "text": [
      "Recall of model is: 0.23375959079283887\n",
      "CV with factors=30, alpha_val=15\n"
     ]
    },
    {
     "name": "stderr",
     "output_type": "stream",
     "text": [
      "100%|██████████| 20.0/20 [00:01<00:00, 13.17it/s]\n"
     ]
    },
    {
     "name": "stdout",
     "output_type": "stream",
     "text": [
      "Recall of model is: 0.2608695652173913\n",
      "CV with factors=30, alpha_val=20\n"
     ]
    },
    {
     "name": "stderr",
     "output_type": "stream",
     "text": [
      "100%|██████████| 20.0/20 [00:01<00:00, 14.54it/s]\n"
     ]
    },
    {
     "name": "stdout",
     "output_type": "stream",
     "text": [
      "Recall of model is: 0.2572890025575448\n",
      "CV with factors=30, alpha_val=30\n"
     ]
    },
    {
     "name": "stderr",
     "output_type": "stream",
     "text": [
      "100%|██████████| 20.0/20 [00:01<00:00, 15.23it/s]\n"
     ]
    },
    {
     "name": "stdout",
     "output_type": "stream",
     "text": [
      "Recall of model is: 0.2659846547314578\n",
      "CV with factors=30, alpha_val=40\n"
     ]
    },
    {
     "name": "stderr",
     "output_type": "stream",
     "text": [
      "100%|██████████| 20.0/20 [00:01<00:00, 13.98it/s]\n"
     ]
    },
    {
     "name": "stdout",
     "output_type": "stream",
     "text": [
      "Recall of model is: 0.2618925831202046\n",
      "CV with factors=30, alpha_val=50\n"
     ]
    },
    {
     "name": "stderr",
     "output_type": "stream",
     "text": [
      "100%|██████████| 20.0/20 [00:01<00:00, 14.65it/s]\n"
     ]
    },
    {
     "name": "stdout",
     "output_type": "stream",
     "text": [
      "Recall of model is: 0.25882352941176473\n",
      "CV with factors=40, alpha_val=15\n"
     ]
    },
    {
     "name": "stderr",
     "output_type": "stream",
     "text": [
      "100%|██████████| 20.0/20 [00:01<00:00, 15.09it/s]\n"
     ]
    },
    {
     "name": "stdout",
     "output_type": "stream",
     "text": [
      "Recall of model is: 0.27877237851662406\n",
      "CV with factors=40, alpha_val=20\n"
     ]
    },
    {
     "name": "stderr",
     "output_type": "stream",
     "text": [
      "100%|██████████| 20.0/20 [00:01<00:00, 13.44it/s]\n"
     ]
    },
    {
     "name": "stdout",
     "output_type": "stream",
     "text": [
      "Recall of model is: 0.27570332480818416\n",
      "CV with factors=40, alpha_val=30\n"
     ]
    },
    {
     "name": "stderr",
     "output_type": "stream",
     "text": [
      "100%|██████████| 20.0/20 [00:01<00:00, 12.28it/s]\n"
     ]
    },
    {
     "name": "stdout",
     "output_type": "stream",
     "text": [
      "Recall of model is: 0.2777493606138107\n",
      "CV with factors=40, alpha_val=40\n"
     ]
    },
    {
     "name": "stderr",
     "output_type": "stream",
     "text": [
      "100%|██████████| 20.0/20 [00:02<00:00,  8.90it/s]\n"
     ]
    },
    {
     "name": "stdout",
     "output_type": "stream",
     "text": [
      "Recall of model is: 0.2675191815856777\n",
      "CV with factors=40, alpha_val=50\n"
     ]
    },
    {
     "name": "stderr",
     "output_type": "stream",
     "text": [
      "100%|██████████| 20.0/20 [00:01<00:00, 12.70it/s]\n"
     ]
    },
    {
     "name": "stdout",
     "output_type": "stream",
     "text": [
      "Recall of model is: 0.27621483375959077\n",
      "CV with factors=50, alpha_val=15\n"
     ]
    },
    {
     "name": "stderr",
     "output_type": "stream",
     "text": [
      "100%|██████████| 20.0/20 [00:01<00:00, 11.97it/s]\n"
     ]
    },
    {
     "name": "stdout",
     "output_type": "stream",
     "text": [
      "Recall of model is: 0.2849104859335038\n",
      "CV with factors=50, alpha_val=20\n"
     ]
    },
    {
     "name": "stderr",
     "output_type": "stream",
     "text": [
      "100%|██████████| 20.0/20 [00:01<00:00, 12.11it/s]\n"
     ]
    },
    {
     "name": "stdout",
     "output_type": "stream",
     "text": [
      "Recall of model is: 0.28695652173913044\n",
      "CV with factors=50, alpha_val=30\n"
     ]
    },
    {
     "name": "stderr",
     "output_type": "stream",
     "text": [
      "100%|██████████| 20.0/20 [00:01<00:00, 12.17it/s]\n"
     ]
    },
    {
     "name": "stdout",
     "output_type": "stream",
     "text": [
      "Recall of model is: 0.28081841432225063\n",
      "CV with factors=50, alpha_val=40\n"
     ]
    },
    {
     "name": "stderr",
     "output_type": "stream",
     "text": [
      "100%|██████████| 20.0/20 [00:01<00:00, 12.32it/s]\n"
     ]
    },
    {
     "name": "stdout",
     "output_type": "stream",
     "text": [
      "Recall of model is: 0.28286445012787725\n",
      "CV with factors=50, alpha_val=50\n"
     ]
    },
    {
     "name": "stderr",
     "output_type": "stream",
     "text": [
      "100%|██████████| 20.0/20 [00:01<00:00, 11.57it/s]\n"
     ]
    },
    {
     "name": "stdout",
     "output_type": "stream",
     "text": [
      "Recall of model is: 0.28337595907928387\n",
      "CV with factors=100, alpha_val=15\n"
     ]
    },
    {
     "name": "stderr",
     "output_type": "stream",
     "text": [
      "100%|██████████| 20.0/20 [00:01<00:00, 11.08it/s]\n"
     ]
    },
    {
     "name": "stdout",
     "output_type": "stream",
     "text": [
      "Recall of model is: 0.2772378516624041\n",
      "CV with factors=100, alpha_val=20\n"
     ]
    },
    {
     "name": "stderr",
     "output_type": "stream",
     "text": [
      "100%|██████████| 20.0/20 [00:01<00:00, 11.14it/s]\n"
     ]
    },
    {
     "name": "stdout",
     "output_type": "stream",
     "text": [
      "Recall of model is: 0.2813299232736573\n",
      "CV with factors=100, alpha_val=30\n"
     ]
    },
    {
     "name": "stderr",
     "output_type": "stream",
     "text": [
      "100%|██████████| 20.0/20 [00:01<00:00, 11.39it/s]\n"
     ]
    },
    {
     "name": "stdout",
     "output_type": "stream",
     "text": [
      "Recall of model is: 0.2813299232736573\n",
      "CV with factors=100, alpha_val=40\n"
     ]
    },
    {
     "name": "stderr",
     "output_type": "stream",
     "text": [
      "100%|██████████| 20.0/20 [00:01<00:00, 11.28it/s]\n"
     ]
    },
    {
     "name": "stdout",
     "output_type": "stream",
     "text": [
      "Recall of model is: 0.28388746803069054\n",
      "CV with factors=100, alpha_val=50\n"
     ]
    },
    {
     "name": "stderr",
     "output_type": "stream",
     "text": [
      "100%|██████████| 20.0/20 [00:01<00:00, 11.55it/s]\n"
     ]
    },
    {
     "name": "stdout",
     "output_type": "stream",
     "text": [
      "Recall of model is: 0.2792838874680307\n"
     ]
    }
   ],
   "source": [
    "# Create sparse matrix\n",
    "list_factors = [10, 20, 30, 40, 50, 100]\n",
    "list_alpha_val = [15, 20, 30, 40, 50]\n",
    "\n",
    "gridsearch_params = [\n",
    "    (factors, alpha_val)\n",
    "    for factors in list_factors\n",
    "    for alpha_val in list_alpha_val]\n",
    "\n",
    "for factors, alpha_val in gridsearch_params:\n",
    "    print(\"CV with factors={}, alpha_val={}\".format(factors, alpha_val))\n",
    "    \n",
    "    # Initialize the model ALS\n",
    "    model = implicit.als.AlternatingLeastSquares(factors=factors, regularization=0.1, iterations=20)\n",
    "\n",
    "    # Multiply matrix by confidence\n",
    "    data_conf = (sparse_item_user * alpha_val)\n",
    "\n",
    "    # Fit model\n",
    "    model.fit(data_conf)\n",
    "    \n",
    "    # Create recommendations and compute recall\n",
    "    tp = 0\n",
    "    fn = 0\n",
    "    for user in users_test:\n",
    "        if user not in users_train:\n",
    "            continue\n",
    "\n",
    "        items_test = test_data.loc[test_data['user_id'] == user, 'tag_id'].values\n",
    "        index_items_test = np.argwhere(np.isin(items, items_test)).flatten()\n",
    "\n",
    "        idx = np.argwhere(users_train == user)[0][0]\n",
    "        model.recommend(idx, sparse_user_item, N=10)\n",
    "        index_items_top_predicted = model.recommend(idx, sparse_user_item, N=10)\n",
    "        index_items_top_predicted = [ind for ind, scr in index_items_top_predicted]\n",
    "\n",
    "        tp += np.isin(index_items_top_predicted, index_items_test).sum()\n",
    "        fn += (~np.isin(index_items_test, index_items_top_predicted)).sum()\n",
    "\n",
    "    recall = tp / (tp+fn)\n",
    "\n",
    "    print('Recall of model is: ' + str(recall))"
   ]
  },
  {
   "cell_type": "markdown",
   "metadata": {},
   "source": [
    "Results are improved, so the best model is:\n",
    "- Recall of model is: 0.28695652173913044\n",
    "- CV with factors=50, alpha_val=30"
   ]
  },
  {
   "cell_type": "markdown",
   "metadata": {},
   "source": [
    "## 4 - Conclusions\n",
    "\n",
    "** Memory based approach: Item-item collaborative filtering **\n",
    "    - Recall = 0.228132\n",
    "\n",
    "** Model based approach: Item-item with ALS matrix factorization **\n",
    "    - Recall = 0.286956\n",
    "    \n",
    "As we can see Model based approach is better than memory based. <br>\n",
    "So, we take this model to recommend 10 similar items to item of tag: 'ff0d3fb21c00bc33f71187a2beec389e9eff5332'"
   ]
  },
  {
   "cell_type": "code",
   "execution_count": 16,
   "metadata": {},
   "outputs": [
    {
     "name": "stderr",
     "output_type": "stream",
     "text": [
      "100%|██████████| 20.0/20 [00:01<00:00, 12.33it/s]\n"
     ]
    },
    {
     "name": "stdout",
     "output_type": "stream",
     "text": [
      "7ee223009403f7450993fe5d79516f1fc841e75e\n",
      "340f1eaf7ad0c07f1491338ab68cbcab30c315ec\n",
      "6b0cd6a8094daf42e766ea257a2af3571831bb32\n",
      "5384b5d2fa98888387e27e9f41c103ec331f00d7\n",
      "bdf147e99ee57500eb2dabcbf3cfa24e1daef357\n",
      "820c2fc67b01d3a53750c21eab0a4edb1dc0a422\n",
      "0d3dc58ead1aa17dcc7d6481215d0e940f1cedad\n",
      "4f9ffe0ec421659b5417381e12c57716f7d6f2c9\n",
      "1a0e2f8e2e7e4f748ea60419ec6ba9cd4be2dc49\n",
      "aa714218e66a8101278c5f0a0991b5bd8021bac6\n"
     ]
    }
   ],
   "source": [
    "# n_similar items\n",
    "n_similar = 11\n",
    "\n",
    "# Get index of 'ff0d3fb21c00bc33f71187a2beec389e9eff5332' in original dataset\n",
    "item_idx = np.argwhere(user_item.columns == 'ff0d3fb21c00bc33f71187a2beec389e9eff5332')[0][0]\n",
    "\n",
    "# Initialize the model ALS\n",
    "factors = 50\n",
    "alpha_val = 30\n",
    "model = implicit.als.AlternatingLeastSquares(factors=factors, regularization=0.1, iterations=20)\n",
    "\n",
    "# Multiply matrix by confidence\n",
    "data_conf = (sparse_item_user * alpha_val)\n",
    "\n",
    "# Fit model\n",
    "model.fit(data_conf)\n",
    "\n",
    "# Use implicit to get similar items.\n",
    "similar = model.similar_items(item_idx, n_similar)\n",
    "\n",
    "# Print top 10 similar items\n",
    "for item in similar[1:]:\n",
    "    idx, score = item\n",
    "    print(user_item.columns[idx])"
   ]
  }
 ],
 "metadata": {
  "kernelspec": {
   "display_name": "Python 3",
   "language": "python",
   "name": "python3"
  },
  "language_info": {
   "codemirror_mode": {
    "name": "ipython",
    "version": 3
   },
   "file_extension": ".py",
   "mimetype": "text/x-python",
   "name": "python",
   "nbconvert_exporter": "python",
   "pygments_lexer": "ipython3",
   "version": "3.6.3"
  }
 },
 "nbformat": 4,
 "nbformat_minor": 2
}
